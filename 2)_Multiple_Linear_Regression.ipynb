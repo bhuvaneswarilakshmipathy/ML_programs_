{
  "nbformat": 4,
  "nbformat_minor": 0,
  "metadata": {
    "colab": {
      "provenance": [],
      "authorship_tag": "ABX9TyO66BlynCFbSjFTfzwuCUMP",
      "include_colab_link": true
    },
    "kernelspec": {
      "name": "python3",
      "display_name": "Python 3"
    },
    "language_info": {
      "name": "python"
    }
  },
  "cells": [
    {
      "cell_type": "markdown",
      "metadata": {
        "id": "view-in-github",
        "colab_type": "text"
      },
      "source": [
        "<a href=\"https://colab.research.google.com/github/bhuvaneswarilakshmipathy/ML_programs_/blob/main/2)_Multiple_Linear_Regression.ipynb\" target=\"_parent\"><img src=\"https://colab.research.google.com/assets/colab-badge.svg\" alt=\"Open In Colab\"/></a>"
      ]
    },
    {
      "cell_type": "code",
      "execution_count": null,
      "metadata": {
        "colab": {
          "base_uri": "https://localhost:8080/"
        },
        "id": "zt4lFazPZxTb",
        "outputId": "64c02d9a-29b4-48e2-9707-73a4f02dbecb"
      },
      "outputs": [
        {
          "output_type": "stream",
          "name": "stdout",
          "text": [
            "                            OLS Regression Results                            \n",
            "==============================================================================\n",
            "Dep. Variable:       Final_Exam_Score   R-squared:                       1.000\n",
            "Model:                            OLS   Adj. R-squared:                    nan\n",
            "Method:                 Least Squares   F-statistic:                       nan\n",
            "Date:                Tue, 27 Aug 2024   Prob (F-statistic):                nan\n",
            "Time:                        05:57:34   Log-Likelihood:                 81.058\n",
            "No. Observations:                   3   AIC:                            -156.1\n",
            "Df Residuals:                       0   BIC:                            -158.8\n",
            "Df Model:                           2                                         \n",
            "Covariance Type:            nonrobust                                         \n",
            "========================================================================================\n",
            "                           coef    std err          t      P>|t|      [0.025      0.975]\n",
            "----------------------------------------------------------------------------------------\n",
            "const                    1.0012        inf          0        nan         nan         nan\n",
            "Hours_Studied           -6.6427        inf         -0        nan         nan         nan\n",
            "Previous_Test_Scores     1.8285        inf          0        nan         nan         nan\n",
            "Attendance           -2.942e-14        inf         -0        nan         nan         nan\n",
            "==============================================================================\n",
            "Omnibus:                          nan   Durbin-Watson:                   0.034\n",
            "Prob(Omnibus):                    nan   Jarque-Bera (JB):                0.516\n",
            "Skew:                          -0.686   Prob(JB):                        0.772\n",
            "Kurtosis:                       1.500   Cond. No.                         443.\n",
            "==============================================================================\n",
            "\n",
            "Notes:\n",
            "[1] Standard Errors assume that the covariance matrix of the errors is correctly specified.\n",
            "[2] The input rank is higher than the number of observations.\n"
          ]
        },
        {
          "output_type": "stream",
          "name": "stderr",
          "text": [
            "/usr/local/lib/python3.10/dist-packages/statsmodels/stats/stattools.py:74: ValueWarning: omni_normtest is not valid with less than 8 observations; 3 samples were given.\n",
            "  warn(\"omni_normtest is not valid with less than 8 observations; %i \"\n",
            "/usr/local/lib/python3.10/dist-packages/statsmodels/regression/linear_model.py:1796: RuntimeWarning: divide by zero encountered in divide\n",
            "  return 1 - (np.divide(self.nobs - self.k_constant, self.df_resid)\n",
            "/usr/local/lib/python3.10/dist-packages/statsmodels/regression/linear_model.py:1796: RuntimeWarning: invalid value encountered in scalar multiply\n",
            "  return 1 - (np.divide(self.nobs - self.k_constant, self.df_resid)\n",
            "/usr/local/lib/python3.10/dist-packages/statsmodels/regression/linear_model.py:1718: RuntimeWarning: divide by zero encountered in scalar divide\n",
            "  return np.dot(wresid, wresid) / self.df_resid\n"
          ]
        }
      ],
      "source": [
        "import statsmodels.api as sm\n",
        "import pandas as pd\n",
        "\n",
        "# Creating a DataFrame from the data\n",
        "data = {\n",
        "    'Hours_Studied': [10, 8, ..., 12],\n",
        "    'Previous_Test_Scores': [85, 75, ..., 95],\n",
        "    'Attendance': [90, 80, ..., 95],\n",
        "    'Final_Exam_Score': [90, 85, ..., 95]\n",
        "}\n",
        "df = pd.DataFrame(data)\n",
        "\n",
        "# Convert the DataFrame to numeric type\n",
        "df = df.apply(pd.to_numeric, errors='coerce')\n",
        "\n",
        "# Drop rows with missing values\n",
        "df = df.dropna()\n",
        "\n",
        "# Independent variables\n",
        "X = df[['Hours_Studied', 'Previous_Test_Scores', 'Attendance']]\n",
        "\n",
        "# Dependent variable\n",
        "Y = df['Final_Exam_Score']\n",
        "\n",
        "# Adding a constant term\n",
        "X = sm.add_constant(X)\n",
        "\n",
        "# Fit the regression model\n",
        "model = sm.OLS(Y, X).fit()\n",
        "\n",
        "# Print the summary of the regression model\n",
        "print(model.summary())\n"
      ]
    },
    {
      "cell_type": "markdown",
      "source": [
        "# **UPDATIONS:**\n",
        "**1)** HANDLE MISSING DATA\n",
        "\n",
        "**2)** USE A TEST-TRAIN SPLIT\n",
        "\n",
        "**3)** ADD COMMENTS AND DOCUMENTATION\n",
        "\n",
        "**4)** INCLUDE MODEL DIAGNOSTICS"
      ],
      "metadata": {
        "id": "ZAxx3mKhd8Yp"
      }
    },
    {
      "cell_type": "code",
      "source": [
        "import statsmodels.api as sm\n",
        "import pandas as pd\n",
        "from sklearn.model_selection import train_test_split\n",
        "import matplotlib.pyplot as plt\n",
        "import seaborn as sns\n",
        "\n",
        "# Creating a DataFrame from the data\n",
        "data = {\n",
        "    'Hours_Studied': [10, 8, 9, 11, 12],  # Example data\n",
        "    'Previous_Test_Scores': [85, 75, 80, 90, 95],  # Example data\n",
        "    'Attendance': [90, 80, 85, 88, 95],  # Example data\n",
        "    'Final_Exam_Score': [90, 85, 88, 92, 95]  # Example data\n",
        "}\n",
        "df = pd.DataFrame(data)\n",
        "\n",
        "# Convert the DataFrame to numeric type\n",
        "df = df.apply(pd.to_numeric, errors='coerce')\n",
        "\n",
        "# Drop rows with missing values\n",
        "df = df.dropna()\n",
        "\n",
        "# Independent variables\n",
        "X = df[['Hours_Studied', 'Previous_Test_Scores', 'Attendance']]\n",
        "\n",
        "# Dependent variable\n",
        "Y = df['Final_Exam_Score']\n",
        "\n",
        "# Adding a constant term\n",
        "X = sm.add_constant(X)\n",
        "\n",
        "# Split the data into training and testing sets\n",
        "X_train, X_test, Y_train, Y_test = train_test_split(X, Y, test_size=0.2, random_state=42)\n",
        "\n",
        "# Fit the regression model\n",
        "model = sm.OLS(Y_train, X_train).fit()\n",
        "\n",
        "# Print the summary of the regression model\n",
        "print(model.summary())\n",
        "\n",
        "# Predict on the test set\n",
        "Y_pred = model.predict(X_test)\n",
        "\n",
        "# Plotting residuals\n",
        "residuals = Y_test - Y_pred\n",
        "plt.figure(figsize=(10, 6))\n",
        "sns.scatterplot(x=Y_pred, y=residuals, alpha=0.7)\n",
        "plt.axhline(y=0, color='r', linestyle='--')\n",
        "plt.xlabel('Predicted Values')\n",
        "plt.ylabel('Residuals')\n",
        "plt.title('Residuals vs. Predicted Values')\n",
        "plt.show()\n"
      ],
      "metadata": {
        "colab": {
          "base_uri": "https://localhost:8080/",
          "height": 1000
        },
        "id": "kZOb-m99dNWF",
        "outputId": "f0ee6780-e5c7-4d5f-f26d-de7e18cd5382"
      },
      "execution_count": null,
      "outputs": [
        {
          "output_type": "stream",
          "name": "stderr",
          "text": [
            "/usr/local/lib/python3.10/dist-packages/statsmodels/stats/stattools.py:74: ValueWarning: omni_normtest is not valid with less than 8 observations; 4 samples were given.\n",
            "  warn(\"omni_normtest is not valid with less than 8 observations; %i \"\n"
          ]
        },
        {
          "output_type": "stream",
          "name": "stdout",
          "text": [
            "                            OLS Regression Results                            \n",
            "==============================================================================\n",
            "Dep. Variable:       Final_Exam_Score   R-squared:                       0.993\n",
            "Model:                            OLS   Adj. R-squared:                  0.980\n",
            "Method:                 Least Squares   F-statistic:                     74.84\n",
            "Date:                Tue, 27 Aug 2024   Prob (F-statistic):             0.0815\n",
            "Time:                        06:15:03   Log-Likelihood:                0.55400\n",
            "No. Observations:                   4   AIC:                             4.892\n",
            "Df Residuals:                       1   BIC:                             3.051\n",
            "Df Model:                           2                                         \n",
            "Covariance Type:            nonrobust                                         \n",
            "========================================================================================\n",
            "                           coef    std err          t      P>|t|      [0.025      0.975]\n",
            "----------------------------------------------------------------------------------------\n",
            "const                    0.9921      0.118      8.375      0.076      -0.513       2.497\n",
            "Hours_Studied           -6.5990      0.791     -8.338      0.076     -16.655       3.457\n",
            "Previous_Test_Scores     1.7270      0.200      8.649      0.073      -0.810       4.264\n",
            "Attendance               0.0942      0.113      0.831      0.559      -1.347       1.535\n",
            "==============================================================================\n",
            "Omnibus:                          nan   Durbin-Watson:                   1.594\n",
            "Prob(Omnibus):                    nan   Jarque-Bera (JB):                0.516\n",
            "Skew:                          -0.167   Prob(JB):                        0.773\n",
            "Kurtosis:                       1.272   Cond. No.                     8.06e+18\n",
            "==============================================================================\n",
            "\n",
            "Notes:\n",
            "[1] Standard Errors assume that the covariance matrix of the errors is correctly specified.\n",
            "[2] The smallest eigenvalue is 9.73e-34. This might indicate that there are\n",
            "strong multicollinearity problems or that the design matrix is singular.\n"
          ]
        },
        {
          "output_type": "display_data",
          "data": {
            "text/plain": [
              "<Figure size 1000x600 with 1 Axes>"
            ],
            "image/png": "[encoded data removed]"
          },
          "metadata": {}
        }
      ]
    }
  ]
}